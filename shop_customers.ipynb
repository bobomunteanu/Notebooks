{
 "cells": [
  {
   "cell_type": "code",
   "execution_count": 35,
   "metadata": {},
   "outputs": [],
   "source": [
    "import pandas as pd\n",
    "import matplotlib.pyplot as plt\n",
    "import numpy as np"
   ]
  },
  {
   "cell_type": "code",
   "execution_count": 5,
   "metadata": {},
   "outputs": [
    {
     "data": {
      "text/html": [
       "<div>\n",
       "<style scoped>\n",
       "    .dataframe tbody tr th:only-of-type {\n",
       "        vertical-align: middle;\n",
       "    }\n",
       "\n",
       "    .dataframe tbody tr th {\n",
       "        vertical-align: top;\n",
       "    }\n",
       "\n",
       "    .dataframe thead th {\n",
       "        text-align: right;\n",
       "    }\n",
       "</style>\n",
       "<table border=\"1\" class=\"dataframe\">\n",
       "  <thead>\n",
       "    <tr style=\"text-align: right;\">\n",
       "      <th></th>\n",
       "      <th>CustomerID</th>\n",
       "      <th>Gender</th>\n",
       "      <th>Age</th>\n",
       "      <th>Annual Income ($)</th>\n",
       "      <th>Spending Score (1-100)</th>\n",
       "      <th>Profession</th>\n",
       "      <th>Work Experience</th>\n",
       "      <th>Family Size</th>\n",
       "    </tr>\n",
       "  </thead>\n",
       "  <tbody>\n",
       "    <tr>\n",
       "      <th>0</th>\n",
       "      <td>1</td>\n",
       "      <td>Male</td>\n",
       "      <td>19</td>\n",
       "      <td>15000</td>\n",
       "      <td>39</td>\n",
       "      <td>Healthcare</td>\n",
       "      <td>1</td>\n",
       "      <td>4</td>\n",
       "    </tr>\n",
       "    <tr>\n",
       "      <th>1</th>\n",
       "      <td>2</td>\n",
       "      <td>Male</td>\n",
       "      <td>21</td>\n",
       "      <td>35000</td>\n",
       "      <td>81</td>\n",
       "      <td>Engineer</td>\n",
       "      <td>3</td>\n",
       "      <td>3</td>\n",
       "    </tr>\n",
       "    <tr>\n",
       "      <th>2</th>\n",
       "      <td>3</td>\n",
       "      <td>Female</td>\n",
       "      <td>20</td>\n",
       "      <td>86000</td>\n",
       "      <td>6</td>\n",
       "      <td>Engineer</td>\n",
       "      <td>1</td>\n",
       "      <td>1</td>\n",
       "    </tr>\n",
       "    <tr>\n",
       "      <th>3</th>\n",
       "      <td>4</td>\n",
       "      <td>Female</td>\n",
       "      <td>23</td>\n",
       "      <td>59000</td>\n",
       "      <td>77</td>\n",
       "      <td>Lawyer</td>\n",
       "      <td>0</td>\n",
       "      <td>2</td>\n",
       "    </tr>\n",
       "    <tr>\n",
       "      <th>4</th>\n",
       "      <td>5</td>\n",
       "      <td>Female</td>\n",
       "      <td>31</td>\n",
       "      <td>38000</td>\n",
       "      <td>40</td>\n",
       "      <td>Entertainment</td>\n",
       "      <td>2</td>\n",
       "      <td>6</td>\n",
       "    </tr>\n",
       "  </tbody>\n",
       "</table>\n",
       "</div>"
      ],
      "text/plain": [
       "   CustomerID  Gender  Age  Annual Income ($)  Spending Score (1-100)  \\\n",
       "0           1    Male   19              15000                      39   \n",
       "1           2    Male   21              35000                      81   \n",
       "2           3  Female   20              86000                       6   \n",
       "3           4  Female   23              59000                      77   \n",
       "4           5  Female   31              38000                      40   \n",
       "\n",
       "      Profession  Work Experience  Family Size  \n",
       "0     Healthcare                1            4  \n",
       "1       Engineer                3            3  \n",
       "2       Engineer                1            1  \n",
       "3         Lawyer                0            2  \n",
       "4  Entertainment                2            6  "
      ]
     },
     "execution_count": 5,
     "metadata": {},
     "output_type": "execute_result"
    }
   ],
   "source": [
    "customers = pd.read_csv('Datasets/Customers.csv')\n",
    "customers.head()"
   ]
  },
  {
   "cell_type": "code",
   "execution_count": 7,
   "metadata": {},
   "outputs": [
    {
     "data": {
      "text/plain": [
       "(2000, 8)"
      ]
     },
     "execution_count": 7,
     "metadata": {},
     "output_type": "execute_result"
    }
   ],
   "source": [
    "customers.shape"
   ]
  },
  {
   "cell_type": "code",
   "execution_count": 8,
   "metadata": {},
   "outputs": [
    {
     "name": "stdout",
     "output_type": "stream",
     "text": [
      "<class 'pandas.core.frame.DataFrame'>\n",
      "RangeIndex: 2000 entries, 0 to 1999\n",
      "Data columns (total 8 columns):\n",
      " #   Column                  Non-Null Count  Dtype \n",
      "---  ------                  --------------  ----- \n",
      " 0   CustomerID              2000 non-null   int64 \n",
      " 1   Gender                  2000 non-null   object\n",
      " 2   Age                     2000 non-null   int64 \n",
      " 3   Annual Income ($)       2000 non-null   int64 \n",
      " 4   Spending Score (1-100)  2000 non-null   int64 \n",
      " 5   Profession              1965 non-null   object\n",
      " 6   Work Experience         2000 non-null   int64 \n",
      " 7   Family Size             2000 non-null   int64 \n",
      "dtypes: int64(6), object(2)\n",
      "memory usage: 125.1+ KB\n"
     ]
    }
   ],
   "source": [
    "customers.info()"
   ]
  },
  {
   "cell_type": "code",
   "execution_count": 9,
   "metadata": {},
   "outputs": [
    {
     "data": {
      "text/plain": [
       "CustomerID                False\n",
       "Gender                    False\n",
       "Age                       False\n",
       "Annual Income ($)         False\n",
       "Spending Score (1-100)    False\n",
       "Profession                 True\n",
       "Work Experience           False\n",
       "Family Size               False\n",
       "dtype: bool"
      ]
     },
     "execution_count": 9,
     "metadata": {},
     "output_type": "execute_result"
    }
   ],
   "source": [
    "customers.isnull().any()"
   ]
  },
  {
   "cell_type": "code",
   "execution_count": 12,
   "metadata": {},
   "outputs": [],
   "source": [
    "customers = customers.dropna(axis='rows')"
   ]
  },
  {
   "cell_type": "markdown",
   "metadata": {},
   "source": [
    "### Even age distribution\n"
   ]
  },
  {
   "cell_type": "code",
   "execution_count": 50,
   "metadata": {},
   "outputs": [
    {
     "data": {
      "text/plain": [
       "(array([374., 446., 390., 368., 387.]),\n",
       " array([  0.,  20.,  40.,  60.,  80., 100.]),\n",
       " <BarContainer object of 5 artists>)"
      ]
     },
     "execution_count": 50,
     "metadata": {},
     "output_type": "execute_result"
    },
    {
     "data": {
      "image/png": "[encoded data removed]",
      "text/plain": [
       "<Figure size 640x480 with 1 Axes>"
      ]
     },
     "metadata": {},
     "output_type": "display_data"
    }
   ],
   "source": [
    "plt.hist(x=customers['Age'], bins=[0, 20, 40, 60, 80, 100], edgecolor=\"k\")"
   ]
  },
  {
   "cell_type": "code",
   "execution_count": 54,
   "metadata": {},
   "outputs": [
    {
     "data": {
      "text/plain": [
       "0    M\n",
       "1    M\n",
       "2    F\n",
       "3    F\n",
       "4    F\n",
       "Name: Gender, dtype: object"
      ]
     },
     "execution_count": 54,
     "metadata": {},
     "output_type": "execute_result"
    }
   ],
   "source": [
    "customers['Gender'] = customers['Gender'].str.replace('Male', 'M')\n",
    "customers['Gender'] = customers['Gender'].str.replace('Female', 'F')\n",
    "\n",
    "customers['Gender'].head()"
   ]
  },
  {
   "attachments": {},
   "cell_type": "markdown",
   "metadata": {},
   "source": [
    "### Gender distribution"
   ]
  },
  {
   "cell_type": "code",
   "execution_count": 75,
   "metadata": {},
   "outputs": [
    {
     "data": {
      "text/plain": [
       "([<matplotlib.patches.Wedge at 0x7f6b1c1d1c00>,\n",
       "  <matplotlib.patches.Wedge at 0x7f6b1c2eb4c0>],\n",
       " [Text(-0.318103273495275, 1.0530006207935445, ''),\n",
       "  Text(0.31810317490624024, -1.053000650576518, '')])"
      ]
     },
     "execution_count": 75,
     "metadata": {},
     "output_type": "execute_result"
    },
    {
     "data": {
      "image/png": "[encoded data removed]",
      "text/plain": [
       "<Figure size 640x480 with 1 Axes>"
      ]
     },
     "metadata": {},
     "output_type": "display_data"
    }
   ],
   "source": [
    "(female, male) = customers['Gender'].value_counts()\n",
    "\n",
    "plt.pie([female, male], colors=['pink', 'blue'])"
   ]
  },
  {
   "attachments": {},
   "cell_type": "markdown",
   "metadata": {},
   "source": [
    "### The majority of customers is represented by females, as they have a majority of around 60%\n",
    "\n",
    "The difference between genders is not considerable, thus marketing should not be targeted towards females only."
   ]
  },
  {
   "attachments": {},
   "cell_type": "markdown",
   "metadata": {},
   "source": [
    "### Distribution of jobs"
   ]
  },
  {
   "cell_type": "code",
   "execution_count": 85,
   "metadata": {},
   "outputs": [
    {
     "data": {
      "text/plain": [
       "([<matplotlib.patches.Wedge at 0x7f6b1bf22590>,\n",
       "  <matplotlib.patches.Wedge at 0x7f6b1bf224a0>,\n",
       "  <matplotlib.patches.Wedge at 0x7f6b1bf22b30>,\n",
       "  <matplotlib.patches.Wedge at 0x7f6b1bf22e90>,\n",
       "  <matplotlib.patches.Wedge at 0x7f6b1bf23340>,\n",
       "  <matplotlib.patches.Wedge at 0x7f6b1bf237c0>,\n",
       "  <matplotlib.patches.Wedge at 0x7f6b1bf23c40>,\n",
       "  <matplotlib.patches.Wedge at 0x7f6b1bf5c100>,\n",
       "  <matplotlib.patches.Wedge at 0x7f6b1bf5c580>],\n",
       " [Text(0.6141398223975006, 0.9125964489003705, 'Healthcare'),\n",
       "  Text(-0.8805235522307555, 0.6593013529236325, 'Engineer'),\n",
       "  Text(-1.059147076884576, -0.2969974234347125, 'Lawyer'),\n",
       "  Text(-0.6543638725165953, -0.8841990286949455, 'Entertainment'),\n",
       "  Text(-0.10273110955153761, -1.095192366267365, 'Artist'),\n",
       "  Text(0.43694350057407394, -1.0094951100951775, 'Executive'),\n",
       "  Text(0.847900868551892, -0.7007596714344708, 'Doctor'),\n",
       "  Text(1.041446409089316, -0.3541036246566381, 'Homemaker'),\n",
       "  Text(1.0949428550775926, -0.1053572214636018, 'Marketing')])"
      ]
     },
     "execution_count": 85,
     "metadata": {},
     "output_type": "execute_result"
    },
    {
     "data": {
      "image/png": "[encoded data removed]",
      "text/plain": [
       "<Figure size 640x480 with 1 Axes>"
      ]
     },
     "metadata": {},
     "output_type": "display_data"
    }
   ],
   "source": [
    "professions = customers['Profession'].value_counts()\n",
    "labels = customers['Profession'].unique()\n",
    "\n",
    "plt.pie(professions, labels=labels)"
   ]
  },
  {
   "cell_type": "code",
   "execution_count": 86,
   "metadata": {},
   "outputs": [
    {
     "data": {
      "text/html": [
       "<div>\n",
       "<style scoped>\n",
       "    .dataframe tbody tr th:only-of-type {\n",
       "        vertical-align: middle;\n",
       "    }\n",
       "\n",
       "    .dataframe tbody tr th {\n",
       "        vertical-align: top;\n",
       "    }\n",
       "\n",
       "    .dataframe thead th {\n",
       "        text-align: right;\n",
       "    }\n",
       "</style>\n",
       "<table border=\"1\" class=\"dataframe\">\n",
       "  <thead>\n",
       "    <tr style=\"text-align: right;\">\n",
       "      <th></th>\n",
       "      <th>CustomerID</th>\n",
       "      <th>Gender</th>\n",
       "      <th>Age</th>\n",
       "      <th>Annual Income ($)</th>\n",
       "      <th>Spending Score (1-100)</th>\n",
       "      <th>Profession</th>\n",
       "      <th>Work Experience</th>\n",
       "      <th>Family Size</th>\n",
       "    </tr>\n",
       "  </thead>\n",
       "  <tbody>\n",
       "    <tr>\n",
       "      <th>0</th>\n",
       "      <td>1</td>\n",
       "      <td>M</td>\n",
       "      <td>19</td>\n",
       "      <td>15000</td>\n",
       "      <td>39</td>\n",
       "      <td>Healthcare</td>\n",
       "      <td>1</td>\n",
       "      <td>4</td>\n",
       "    </tr>\n",
       "    <tr>\n",
       "      <th>1</th>\n",
       "      <td>2</td>\n",
       "      <td>M</td>\n",
       "      <td>21</td>\n",
       "      <td>35000</td>\n",
       "      <td>81</td>\n",
       "      <td>Engineer</td>\n",
       "      <td>3</td>\n",
       "      <td>3</td>\n",
       "    </tr>\n",
       "    <tr>\n",
       "      <th>2</th>\n",
       "      <td>3</td>\n",
       "      <td>F</td>\n",
       "      <td>20</td>\n",
       "      <td>86000</td>\n",
       "      <td>6</td>\n",
       "      <td>Engineer</td>\n",
       "      <td>1</td>\n",
       "      <td>1</td>\n",
       "    </tr>\n",
       "    <tr>\n",
       "      <th>3</th>\n",
       "      <td>4</td>\n",
       "      <td>F</td>\n",
       "      <td>23</td>\n",
       "      <td>59000</td>\n",
       "      <td>77</td>\n",
       "      <td>Lawyer</td>\n",
       "      <td>0</td>\n",
       "      <td>2</td>\n",
       "    </tr>\n",
       "    <tr>\n",
       "      <th>4</th>\n",
       "      <td>5</td>\n",
       "      <td>F</td>\n",
       "      <td>31</td>\n",
       "      <td>38000</td>\n",
       "      <td>40</td>\n",
       "      <td>Entertainment</td>\n",
       "      <td>2</td>\n",
       "      <td>6</td>\n",
       "    </tr>\n",
       "  </tbody>\n",
       "</table>\n",
       "</div>"
      ],
      "text/plain": [
       "   CustomerID Gender  Age  Annual Income ($)  Spending Score (1-100)  \\\n",
       "0           1      M   19              15000                      39   \n",
       "1           2      M   21              35000                      81   \n",
       "2           3      F   20              86000                       6   \n",
       "3           4      F   23              59000                      77   \n",
       "4           5      F   31              38000                      40   \n",
       "\n",
       "      Profession  Work Experience  Family Size  \n",
       "0     Healthcare                1            4  \n",
       "1       Engineer                3            3  \n",
       "2       Engineer                1            1  \n",
       "3         Lawyer                0            2  \n",
       "4  Entertainment                2            6  "
      ]
     },
     "execution_count": 86,
     "metadata": {},
     "output_type": "execute_result"
    }
   ],
   "source": [
    "customers.head()"
   ]
  },
  {
   "cell_type": "code",
   "execution_count": 94,
   "metadata": {},
   "outputs": [
    {
     "data": {
      "text/plain": [
       "60.31"
      ]
     },
     "execution_count": 94,
     "metadata": {},
     "output_type": "execute_result"
    }
   ],
   "source": [
    "((professions[0] + professions[1] + professions[2]) / professions.sum() * 100).round(2)"
   ]
  },
  {
   "attachments": {},
   "cell_type": "markdown",
   "metadata": {},
   "source": [
    "### 60.31% of customers work in the following fields:\n",
    "Healthcare \n",
    "\n",
    "Engineering \n",
    "\n",
    "Law \n",
    "\n",
    "\n",
    "Thus, the marketing should be targeted towards these people"
   ]
  },
  {
   "cell_type": "code",
   "execution_count": 130,
   "metadata": {},
   "outputs": [
    {
     "data": {
      "text/plain": [
       "<BarContainer object of 9 artists>"
      ]
     },
     "execution_count": 130,
     "metadata": {},
     "output_type": "execute_result"
    },
    {
     "data": {
      "image/png": "[encoded data removed]",
      "text/plain": [
       "<Figure size 2000x1000 with 1 Axes>"
      ]
     },
     "metadata": {},
     "output_type": "display_data"
    }
   ],
   "source": [
    "mean_salary = customers.groupby(customers['Profession'])['Annual Income ($)'].mean().round(2)\n",
    "\n",
    "plt.figure(figsize=(20, 10))\n",
    "plt.bar(labels, mean_salary)"
   ]
  },
  {
   "attachments": {},
   "cell_type": "markdown",
   "metadata": {},
   "source": [
    "We can observe that the median salary of all customers is above 100k/year (no matter the profession), thus the target audience is in the top 18% of americans."
   ]
  },
  {
   "cell_type": "code",
   "execution_count": 140,
   "metadata": {},
   "outputs": [
    {
     "data": {
      "text/html": [
       "<div>\n",
       "<style scoped>\n",
       "    .dataframe tbody tr th:only-of-type {\n",
       "        vertical-align: middle;\n",
       "    }\n",
       "\n",
       "    .dataframe tbody tr th {\n",
       "        vertical-align: top;\n",
       "    }\n",
       "\n",
       "    .dataframe thead th {\n",
       "        text-align: right;\n",
       "    }\n",
       "</style>\n",
       "<table border=\"1\" class=\"dataframe\">\n",
       "  <thead>\n",
       "    <tr style=\"text-align: right;\">\n",
       "      <th></th>\n",
       "      <th>CustomerID</th>\n",
       "      <th>Gender</th>\n",
       "      <th>Age</th>\n",
       "      <th>Annual Income ($)</th>\n",
       "      <th>Spending Score (1-100)</th>\n",
       "      <th>Profession</th>\n",
       "      <th>Work Experience</th>\n",
       "      <th>Family Size</th>\n",
       "    </tr>\n",
       "  </thead>\n",
       "  <tbody>\n",
       "    <tr>\n",
       "      <th>0</th>\n",
       "      <td>1</td>\n",
       "      <td>M</td>\n",
       "      <td>19</td>\n",
       "      <td>15000</td>\n",
       "      <td>39</td>\n",
       "      <td>Healthcare</td>\n",
       "      <td>1</td>\n",
       "      <td>4</td>\n",
       "    </tr>\n",
       "    <tr>\n",
       "      <th>1</th>\n",
       "      <td>2</td>\n",
       "      <td>M</td>\n",
       "      <td>21</td>\n",
       "      <td>35000</td>\n",
       "      <td>81</td>\n",
       "      <td>Engineer</td>\n",
       "      <td>3</td>\n",
       "      <td>3</td>\n",
       "    </tr>\n",
       "    <tr>\n",
       "      <th>2</th>\n",
       "      <td>3</td>\n",
       "      <td>F</td>\n",
       "      <td>20</td>\n",
       "      <td>86000</td>\n",
       "      <td>6</td>\n",
       "      <td>Engineer</td>\n",
       "      <td>1</td>\n",
       "      <td>1</td>\n",
       "    </tr>\n",
       "    <tr>\n",
       "      <th>3</th>\n",
       "      <td>4</td>\n",
       "      <td>F</td>\n",
       "      <td>23</td>\n",
       "      <td>59000</td>\n",
       "      <td>77</td>\n",
       "      <td>Lawyer</td>\n",
       "      <td>0</td>\n",
       "      <td>2</td>\n",
       "    </tr>\n",
       "    <tr>\n",
       "      <th>4</th>\n",
       "      <td>5</td>\n",
       "      <td>F</td>\n",
       "      <td>31</td>\n",
       "      <td>38000</td>\n",
       "      <td>40</td>\n",
       "      <td>Entertainment</td>\n",
       "      <td>2</td>\n",
       "      <td>6</td>\n",
       "    </tr>\n",
       "  </tbody>\n",
       "</table>\n",
       "</div>"
      ],
      "text/plain": [
       "   CustomerID Gender  Age  Annual Income ($)  Spending Score (1-100)  \\\n",
       "0           1      M   19              15000                      39   \n",
       "1           2      M   21              35000                      81   \n",
       "2           3      F   20              86000                       6   \n",
       "3           4      F   23              59000                      77   \n",
       "4           5      F   31              38000                      40   \n",
       "\n",
       "      Profession  Work Experience  Family Size  \n",
       "0     Healthcare                1            4  \n",
       "1       Engineer                3            3  \n",
       "2       Engineer                1            1  \n",
       "3         Lawyer                0            2  \n",
       "4  Entertainment                2            6  "
      ]
     },
     "execution_count": 140,
     "metadata": {},
     "output_type": "execute_result"
    }
   ],
   "source": [
    "customers.head()"
   ]
  },
  {
   "cell_type": "code",
   "execution_count": 168,
   "metadata": {},
   "outputs": [
    {
     "data": {
      "text/plain": [
       "Annual Income ($)\n",
       "(0, 10000]          53.58\n",
       "(10000, 30000]      45.33\n",
       "(30000, 50000]      52.41\n",
       "(50000, 70000]      49.42\n",
       "(70000, 90000]      47.98\n",
       "(90000, 100000]     53.12\n",
       "(100000, 120000]    51.84\n",
       "(120000, 150000]    54.15\n",
       "(150000, 200000]    50.70\n",
       "Name: Spending Score (1-100), dtype: float64"
      ]
     },
     "execution_count": 168,
     "metadata": {},
     "output_type": "execute_result"
    }
   ],
   "source": [
    "spending_score = customers.groupby(pd.cut(customers['Annual Income ($)'], bins=[0, 10000, 30000, 50000, 70000, 90000, 100000, 120000, 150000, 200000]))['Spending Score (1-100)'].mean().round(2)\n",
    "\n",
    "spending_score"
   ]
  },
  {
   "attachments": {},
   "cell_type": "markdown",
   "metadata": {},
   "source": [
    "### Conclusion\n",
    "\n",
    "As you can notice, the customers are distributed evenly, no matter the criteria, but the average salary is in the top ~15% in the United States. Thus, the ads should pe targeted towards financially stable people with a solid monthly income, who are usually attracted by higher quality products but who also don't skip having second toughts about prices."
   ]
  }
 ],
 "metadata": {
  "kernelspec": {
   "display_name": "datascience",
   "language": "python",
   "name": "python3"
  },
  "language_info": {
   "codemirror_mode": {
    "name": "ipython",
    "version": 3
   },
   "file_extension": ".py",
   "mimetype": "text/x-python",
   "name": "python",
   "nbconvert_exporter": "python",
   "pygments_lexer": "ipython3",
   "version": "3.10.10"
  },
  "orig_nbformat": 4,
  "vscode": {
   "interpreter": {
    "hash": "e22e4eedff0b2f5c53876d73acf5a1766ab0b8e45fef58f7d16f03b1f77649e4"
   }
  }
 },
 "nbformat": 4,
 "nbformat_minor": 2
}
